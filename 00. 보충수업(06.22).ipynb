{
 "cells": [
  {
   "cell_type": "markdown",
   "metadata": {},
   "source": [
    "# 1. 변수선언"
   ]
  },
  {
   "cell_type": "code",
   "execution_count": 3,
   "metadata": {},
   "outputs": [],
   "source": [
    "a = 10\n",
    "b = 20\n",
    "list1 = [1,2,3]"
   ]
  },
  {
   "cell_type": "code",
   "execution_count": 7,
   "metadata": {},
   "outputs": [
    {
     "name": "stdout",
     "output_type": "stream",
     "text": [
      "30\n",
      "1 [2, 3]\n"
     ]
    }
   ],
   "source": [
    "print(a + b)\n",
    "print(list1[0], list1[1:3])"
   ]
  },
  {
   "cell_type": "markdown",
   "metadata": {},
   "source": [
    "### 자료구조: 리스트(list)"
   ]
  },
  {
   "cell_type": "code",
   "execution_count": 9,
   "metadata": {},
   "outputs": [
    {
     "data": {
      "text/plain": [
       "[10, 2, 3]"
      ]
     },
     "execution_count": 9,
     "metadata": {},
     "output_type": "execute_result"
    }
   ],
   "source": [
    "list1[0] = 10\n",
    "list1"
   ]
  },
  {
   "cell_type": "code",
   "execution_count": 10,
   "metadata": {},
   "outputs": [
    {
     "data": {
      "text/plain": [
       "[10, [5, 6, 7], 3]"
      ]
     },
     "execution_count": 10,
     "metadata": {},
     "output_type": "execute_result"
    }
   ],
   "source": [
    "list1[1] = [5,6,7]\n",
    "list1"
   ]
  },
  {
   "cell_type": "code",
   "execution_count": 11,
   "metadata": {},
   "outputs": [],
   "source": [
    "list2 = [\n",
    "          [1,2,3],\n",
    "          [4,5,6],\n",
    "          [7,8,9]\n",
    "         ]"
   ]
  },
  {
   "cell_type": "code",
   "execution_count": 13,
   "metadata": {},
   "outputs": [
    {
     "data": {
      "text/plain": [
       "[[1, 2, 3], [4, 10, 6], [7, 8, 9]]"
      ]
     },
     "execution_count": 13,
     "metadata": {},
     "output_type": "execute_result"
    }
   ],
   "source": [
    "list2[1][1] = 10\n",
    "list2"
   ]
  },
  {
   "cell_type": "code",
   "execution_count": 15,
   "metadata": {},
   "outputs": [
    {
     "data": {
      "text/plain": [
       "[[1, 2, 3], [4, 10, 6], 3]"
      ]
     },
     "execution_count": 15,
     "metadata": {},
     "output_type": "execute_result"
    }
   ],
   "source": [
    "list2[2] = 3\n",
    "list2"
   ]
  },
  {
   "cell_type": "code",
   "execution_count": 17,
   "metadata": {},
   "outputs": [],
   "source": [
    "list2 = [\n",
    "          [1,2,3],\n",
    "          [4,5,6],\n",
    "          [7,8,9]\n",
    "         ]"
   ]
  },
  {
   "cell_type": "code",
   "execution_count": 19,
   "metadata": {},
   "outputs": [
    {
     "data": {
      "text/plain": [
       "[[1, 2, 3], [4, 5, 6], [7, 8, 0]]"
      ]
     },
     "execution_count": 19,
     "metadata": {},
     "output_type": "execute_result"
    }
   ],
   "source": [
    "list2[2][2] = 0\n",
    "list2"
   ]
  },
  {
   "cell_type": "code",
   "execution_count": 20,
   "metadata": {},
   "outputs": [
    {
     "data": {
      "text/plain": [
       "[[1, 2, 3], [4, 5, 6], 0]"
      ]
     },
     "execution_count": 20,
     "metadata": {},
     "output_type": "execute_result"
    }
   ],
   "source": [
    "list2[2] = 0\n",
    "list2"
   ]
  },
  {
   "cell_type": "code",
   "execution_count": 21,
   "metadata": {},
   "outputs": [
    {
     "ename": "TypeError",
     "evalue": "'int' object is not subscriptable",
     "output_type": "error",
     "traceback": [
      "\u001b[1;31m---------------------------------------------------------------------------\u001b[0m",
      "\u001b[1;31mTypeError\u001b[0m                                 Traceback (most recent call last)",
      "\u001b[1;32m<ipython-input-21-ae4c53d08242>\u001b[0m in \u001b[0;36m<module>\u001b[1;34m\u001b[0m\n\u001b[1;32m----> 1\u001b[1;33m \u001b[0mprint\u001b[0m\u001b[1;33m(\u001b[0m\u001b[0mlist2\u001b[0m\u001b[1;33m[\u001b[0m\u001b[1;36m2\u001b[0m\u001b[1;33m]\u001b[0m\u001b[1;33m[\u001b[0m\u001b[1;36m1\u001b[0m\u001b[1;33m]\u001b[0m\u001b[1;33m)\u001b[0m\u001b[1;33m\u001b[0m\u001b[1;33m\u001b[0m\u001b[0m\n\u001b[0m",
      "\u001b[1;31mTypeError\u001b[0m: 'int' object is not subscriptable"
     ]
    }
   ],
   "source": [
    "print(list2[2][1])"
   ]
  },
  {
   "cell_type": "markdown",
   "metadata": {},
   "source": [
    "### 자료구조: 튜플(tuple)"
   ]
  },
  {
   "cell_type": "code",
   "execution_count": 24,
   "metadata": {},
   "outputs": [],
   "source": [
    "list2 = (\n",
    "          [1,2,3],\n",
    "          [4,5,6],\n",
    "          [7,8,9]\n",
    "        )"
   ]
  },
  {
   "cell_type": "code",
   "execution_count": 23,
   "metadata": {},
   "outputs": [
    {
     "data": {
      "text/plain": [
       "tuple"
      ]
     },
     "execution_count": 23,
     "metadata": {},
     "output_type": "execute_result"
    }
   ],
   "source": [
    "type(list2)"
   ]
  },
  {
   "cell_type": "code",
   "execution_count": 26,
   "metadata": {},
   "outputs": [
    {
     "data": {
      "text/plain": [
       "([1, 2, 3], [4, 3, 6], [7, 8, 9])"
      ]
     },
     "execution_count": 26,
     "metadata": {},
     "output_type": "execute_result"
    }
   ],
   "source": [
    "list2[1][1] = 3                ## 튜플 안에 리스트가 있는경우, 리스트 자체는 수정 가능함.\n",
    "list2"
   ]
  },
  {
   "cell_type": "code",
   "execution_count": 27,
   "metadata": {},
   "outputs": [
    {
     "ename": "TypeError",
     "evalue": "'tuple' object does not support item assignment",
     "output_type": "error",
     "traceback": [
      "\u001b[1;31m---------------------------------------------------------------------------\u001b[0m",
      "\u001b[1;31mTypeError\u001b[0m                                 Traceback (most recent call last)",
      "\u001b[1;32m<ipython-input-27-b1026bcb7e60>\u001b[0m in \u001b[0;36m<module>\u001b[1;34m\u001b[0m\n\u001b[1;32m----> 1\u001b[1;33m \u001b[0mlist2\u001b[0m\u001b[1;33m[\u001b[0m\u001b[1;36m1\u001b[0m\u001b[1;33m]\u001b[0m \u001b[1;33m=\u001b[0m \u001b[1;36m3\u001b[0m\u001b[1;33m\u001b[0m\u001b[1;33m\u001b[0m\u001b[0m\n\u001b[0m",
      "\u001b[1;31mTypeError\u001b[0m: 'tuple' object does not support item assignment"
     ]
    }
   ],
   "source": [
    "list2[1] = 3"
   ]
  },
  {
   "cell_type": "markdown",
   "metadata": {},
   "source": [
    "### 자료구조: 딕셔너리(Dictionary)"
   ]
  },
  {
   "cell_type": "code",
   "execution_count": 28,
   "metadata": {},
   "outputs": [],
   "source": [
    "list2 = {'a':1, 'b':2, 'c':3}"
   ]
  },
  {
   "cell_type": "code",
   "execution_count": 29,
   "metadata": {},
   "outputs": [
    {
     "data": {
      "text/plain": [
       "dict"
      ]
     },
     "execution_count": 29,
     "metadata": {},
     "output_type": "execute_result"
    }
   ],
   "source": [
    "type(list2)"
   ]
  },
  {
   "cell_type": "code",
   "execution_count": null,
   "metadata": {},
   "outputs": [],
   "source": [
    "#선언문 반복문 조건문 <<<< 알면 프로그램 가능하다"
   ]
  },
  {
   "cell_type": "markdown",
   "metadata": {},
   "source": [
    "<hR>"
   ]
  },
  {
   "cell_type": "markdown",
   "metadata": {},
   "source": [
    "# 2. 반복문"
   ]
  },
  {
   "cell_type": "code",
   "execution_count": 37,
   "metadata": {},
   "outputs": [
    {
     "name": "stdout",
     "output_type": "stream",
     "text": [
      "블럭 내 1\n",
      "블럭 내 2\n",
      "블럭 내 3\n",
      "블럭 내 4\n",
      "블럭 내 5\n",
      "블럭 내 6\n",
      "블럭 내 7\n",
      "블럭 내 8\n",
      "블럭 내 9\n",
      "블럭 바깥 9\n"
     ]
    }
   ],
   "source": [
    "for i in range(1,10, 1):\n",
    "    print(\"블럭 내 %d\"%i)\n",
    "print(\"블럭 바깥 %d\"%i)                      #들여쓰기 안되어 있고, 앞의 for문 다 실행된 후 실행됨. 한번만 실행됨"
   ]
  },
  {
   "cell_type": "code",
   "execution_count": 56,
   "metadata": {},
   "outputs": [
    {
     "ename": "SyntaxError",
     "evalue": "invalid syntax (<ipython-input-56-afa4c791c18c>, line 4)",
     "output_type": "error",
     "traceback": [
      "\u001b[1;36m  File \u001b[1;32m\"<ipython-input-56-afa4c791c18c>\"\u001b[1;36m, line \u001b[1;32m4\u001b[0m\n\u001b[1;33m    print(\"%2d X %2d = %2d\" %((dan+fl),num,((dan+fl)*num), end = \"     \")\u001b[0m\n\u001b[1;37m                                                               ^\u001b[0m\n\u001b[1;31mSyntaxError\u001b[0m\u001b[1;31m:\u001b[0m invalid syntax\n"
     ]
    }
   ],
   "source": [
    "for fl in range(0,5,4):\n",
    "    for num in range(1,10,1):\n",
    "        for dan in range(2,6,1):\n",
    "            print(\"%2d X %2d = %2d\" %((dan+fl),num,((dan+fl)*num), end = \"     \")\n",
    "        print('\\n')\n",
    "    print('\\n')"
   ]
  },
  {
   "cell_type": "code",
   "execution_count": 58,
   "metadata": {},
   "outputs": [
    {
     "name": "stdout",
     "output_type": "stream",
     "text": [
      "현재 i값 : 1\n",
      "현재 i값 : 2\n",
      "현재 i값 : 3\n",
      "현재 i값 : 4\n",
      "현재 i값 : 5\n",
      "현재 i값 : 6\n",
      "현재 i값 : 7\n",
      "현재 i값 : 8\n",
      "현재 i값 : 9\n",
      "45\n"
     ]
    }
   ],
   "source": [
    "sum = 0\n",
    "\n",
    "for i in range(1,10,1):\n",
    "    print(\"현재 i값 : %d\" %i)\n",
    "    sum += i\n",
    "\n",
    "print(sum)"
   ]
  },
  {
   "cell_type": "code",
   "execution_count": 63,
   "metadata": {},
   "outputs": [
    {
     "name": "stdout",
     "output_type": "stream",
     "text": [
      "9 81\n"
     ]
    }
   ],
   "source": [
    "i_sum = 0\n",
    "j_sum = 0\n",
    "for i in range(1,10,1):\n",
    "    #print(\"여기는 a 반복문\")\n",
    "    i_sum += 1\n",
    "    for j in range(11,20,1):\n",
    "        #print(\"여기는 b 반복문\")\n",
    "        j_sum += 1\n",
    "        \n",
    "print(i_sum, j_sum)"
   ]
  },
  {
   "cell_type": "code",
   "execution_count": null,
   "metadata": {},
   "outputs": [],
   "source": [
    "for i in range(2)"
   ]
  },
  {
   "cell_type": "code",
   "execution_count": 77,
   "metadata": {},
   "outputs": [
    {
     "name": "stdout",
     "output_type": "stream",
     "text": [
      " 2 x 1 = 2  3 x 1 = 3  4 x 1 = 4  5 x 1 = 5  6 x 1 = 6  7 x 1 = 7  8 x 1 = 8  9 x 1 = 9 \n",
      "\n",
      " 2 x 2 = 4  3 x 2 = 6  4 x 2 = 8  5 x 2 =10  6 x 2 =12  7 x 2 =14  8 x 2 =16  9 x 2 =18 \n",
      "\n",
      " 2 x 3 = 6  3 x 3 = 9  4 x 3 =12  5 x 3 =15  6 x 3 =18  7 x 3 =21  8 x 3 =24  9 x 3 =27 \n",
      "\n",
      " 2 x 4 = 8  3 x 4 =12  4 x 4 =16  5 x 4 =20  6 x 4 =24  7 x 4 =28  8 x 4 =32  9 x 4 =36 \n",
      "\n",
      " 2 x 5 =10  3 x 5 =15  4 x 5 =20  5 x 5 =25  6 x 5 =30  7 x 5 =35  8 x 5 =40  9 x 5 =45 \n",
      "\n",
      " 2 x 6 =12  3 x 6 =18  4 x 6 =24  5 x 6 =30  6 x 6 =36  7 x 6 =42  8 x 6 =48  9 x 6 =54 \n",
      "\n",
      " 2 x 7 =14  3 x 7 =21  4 x 7 =28  5 x 7 =35  6 x 7 =42  7 x 7 =49  8 x 7 =56  9 x 7 =63 \n",
      "\n",
      " 2 x 8 =16  3 x 8 =24  4 x 8 =32  5 x 8 =40  6 x 8 =48  7 x 8 =56  8 x 8 =64  9 x 8 =72 \n",
      "\n",
      " 2 x 9 =18  3 x 9 =27  4 x 9 =36  5 x 9 =45  6 x 9 =54  7 x 9 =63  8 x 9 =72  9 x 9 =81 \n",
      "\n"
     ]
    }
   ],
   "source": [
    "for num in range(1,10,1):                 \n",
    "    for dan in range(2,10,1):\n",
    "        print(\"%2d x%2d =%2d\" %(dan, num, dan*num), end=\" \")\n",
    "    print('\\n')"
   ]
  },
  {
   "cell_type": "code",
   "execution_count": 78,
   "metadata": {},
   "outputs": [
    {
     "name": "stdout",
     "output_type": "stream",
     "text": [
      "*\n",
      "**\n",
      "***\n",
      "****\n",
      "*****\n"
     ]
    }
   ],
   "source": [
    "for i in range(1,6):\n",
    "    print(\"*\" *i)                         # for문에서 가장 중요한 것은 <규칙성>"
   ]
  },
  {
   "cell_type": "code",
   "execution_count": 86,
   "metadata": {},
   "outputs": [
    {
     "name": "stdout",
     "output_type": "stream",
     "text": [
      "*\n",
      "\n",
      "**\n",
      "\n",
      "***\n",
      "\n",
      "****\n",
      "\n",
      "*****\n",
      "\n"
     ]
    }
   ],
   "source": [
    "for i in range(1,6,1):\n",
    "    for j in range(1,i+1,1):\n",
    "        print(\"*\", end =\"\") \n",
    "    print(\"\\n\")"
   ]
  },
  {
   "cell_type": "code",
   "execution_count": 93,
   "metadata": {},
   "outputs": [
    {
     "name": "stdout",
     "output_type": "stream",
     "text": [
      "    *\n",
      "\n",
      "   ***\n",
      "\n",
      "  *****\n",
      "\n",
      " *******\n",
      "\n",
      "*********\n",
      "\n"
     ]
    }
   ],
   "source": [
    "for i in range(1,6,1):\n",
    "    print(' ' * (5-i), end = '')\n",
    "    for j in range(1, i+i, 1):\n",
    "        print(\"*\", end =\"\") \n",
    "    print(\"\\n\")"
   ]
  },
  {
   "cell_type": "code",
   "execution_count": 94,
   "metadata": {},
   "outputs": [
    {
     "name": "stdout",
     "output_type": "stream",
     "text": [
      "ㅇㅇㅇㅇ\n",
      "ㅇㅇㅇ\n",
      "ㅇㅇ\n",
      "ㅇ\n"
     ]
    }
   ],
   "source": [
    "for i in range(4,0,-1):\n",
    "    print(\"ㅇ\" *i)"
   ]
  },
  {
   "cell_type": "code",
   "execution_count": 100,
   "metadata": {},
   "outputs": [
    {
     "name": "stdout",
     "output_type": "stream",
     "text": [
      "*********\n",
      "\n",
      " *******\n",
      "\n",
      "  *****\n",
      "\n",
      "   ***\n",
      "\n",
      "    *\n",
      "\n"
     ]
    }
   ],
   "source": [
    "for i in range(5,0,-1):\n",
    "    print(' ' * (5-i), end = '')\n",
    "    for j in range(1, i+i, 1):\n",
    "        print(\"*\", end =\"\") \n",
    "    print(\"\\n\")"
   ]
  },
  {
   "cell_type": "code",
   "execution_count": 104,
   "metadata": {},
   "outputs": [
    {
     "name": "stdout",
     "output_type": "stream",
     "text": [
      "     *\n",
      "    ***\n",
      "   *****\n",
      "  *******\n",
      " *********\n"
     ]
    }
   ],
   "source": [
    "for i in range(1,10, 2):\n",
    "    print(' '*(5-int((i-1)/2))+'*'*i)"
   ]
  },
  {
   "cell_type": "code",
   "execution_count": 108,
   "metadata": {},
   "outputs": [
    {
     "name": "stdout",
     "output_type": "stream",
     "text": [
      "0번의 평균은 70\n",
      "1번의 평균은 83\n",
      "2번의 평균은 73\n"
     ]
    }
   ],
   "source": [
    "score = [['김현진', 80, 75, 55],['이예지',90,80,80],['김형지',80,70,70]]\n",
    "\n",
    "\n",
    "for id in range(0,3,1):          #0,1,2\n",
    "    avg = sum = 0\n",
    "    for data in range(1,4,1):     #1,2,3\n",
    "        sum += score[id][data]\n",
    "    avg = sum/data\n",
    "    print(\"%d번의 평균은 %d\" %(id,avg))"
   ]
  },
  {
   "cell_type": "code",
   "execution_count": 116,
   "metadata": {},
   "outputs": [
    {
     "name": "stdout",
     "output_type": "stream",
     "text": [
      "김현진\n",
      "55\n",
      "이예지\n",
      "80\n",
      "김형지\n",
      "70\n"
     ]
    }
   ],
   "source": [
    "score = [['김현진', 80, 75, 55],['이예지',90,80,80],['김형지',80,70,70]]\n",
    "\n",
    "\n",
    "for j in score:\n",
    "    print(j[0])\n",
    "    print(j[3])"
   ]
  },
  {
   "cell_type": "code",
   "execution_count": 119,
   "metadata": {},
   "outputs": [
    {
     "name": "stdout",
     "output_type": "stream",
     "text": [
      "['김현진', 80, 75, 55]\n",
      "김현진\n",
      "80\n",
      "75\n",
      "55\n",
      "['이예지', 90, 80, 80]\n",
      "이예지\n",
      "90\n",
      "80\n",
      "80\n",
      "['김형지', 80, 70, 70]\n",
      "김형지\n",
      "80\n",
      "70\n",
      "70\n"
     ]
    }
   ],
   "source": [
    "score = [['김현진', 80, 75, 55],['이예지',90,80,80],['김형지',80,70,70]]\n",
    "\n",
    "for j in score:\n",
    "    print(j)\n",
    "    for i in j:\n",
    "        print(i)"
   ]
  }
 ],
 "metadata": {
  "kernelspec": {
   "display_name": "Python 3",
   "language": "python",
   "name": "python3"
  },
  "language_info": {
   "codemirror_mode": {
    "name": "ipython",
    "version": 3
   },
   "file_extension": ".py",
   "mimetype": "text/x-python",
   "name": "python",
   "nbconvert_exporter": "python",
   "pygments_lexer": "ipython3",
   "version": "3.7.6"
  }
 },
 "nbformat": 4,
 "nbformat_minor": 4
}
