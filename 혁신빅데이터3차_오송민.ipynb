{
 "cells": [
  {
   "cell_type": "markdown",
   "metadata": {},
   "source": [
    "#### 문제1"
   ]
  },
  {
   "cell_type": "code",
   "execution_count": null,
   "metadata": {},
   "outputs": [],
   "source": [
    "공한별, 29살"
   ]
  },
  {
   "cell_type": "markdown",
   "metadata": {},
   "source": [
    "#### 문제2"
   ]
  },
  {
   "cell_type": "code",
   "execution_count": null,
   "metadata": {},
   "outputs": [],
   "source": [
    "1. 문법이 간결하다\n",
    "2. GUI를 만들 수 있음\n",
    "3. 직관적이고, 빠르다 (인터프리어 언어)"
   ]
  },
  {
   "cell_type": "markdown",
   "metadata": {},
   "source": [
    "#### 문제3"
   ]
  },
  {
   "cell_type": "code",
   "execution_count": null,
   "metadata": {},
   "outputs": [],
   "source": [
    "\\n: 줄바꿈\n",
    "\\t : 수평선 맞춤\n",
    "\\ : 이스케이프코드 (WW: Literal \\)"
   ]
  },
  {
   "cell_type": "markdown",
   "metadata": {},
   "source": [
    "#### 문제4"
   ]
  },
  {
   "cell_type": "code",
   "execution_count": null,
   "metadata": {},
   "outputs": [],
   "source": [
    "append(): 맨 뒤에 값 추가\n",
    "insert(): (값을 넣으려는 위치, 값)으로 위치 지정 가능."
   ]
  },
  {
   "cell_type": "markdown",
   "metadata": {},
   "source": [
    "#### 문제5"
   ]
  },
  {
   "cell_type": "code",
   "execution_count": null,
   "metadata": {},
   "outputs": [],
   "source": [
    "list: 수정, 삽입, 삭제 가능\n",
    "tuple: 수정, 삽입, 삭제 불가능"
   ]
  },
  {
   "cell_type": "markdown",
   "metadata": {},
   "source": [
    "#### 문제6"
   ]
  },
  {
   "cell_type": "code",
   "execution_count": null,
   "metadata": {},
   "outputs": [],
   "source": [
    "While문: 정해진 값이 있는 상태에서 반복문을 만드려고 할 때 사용\n",
    "For문 값이 정해지지 않은 상태에서 반복문을 만드려고 할 때 사용"
   ]
  },
  {
   "cell_type": "markdown",
   "metadata": {},
   "source": [
    "#### 문제7"
   ]
  },
  {
   "cell_type": "code",
   "execution_count": null,
   "metadata": {},
   "outputs": [],
   "source": [
    "1. 반복적인 작업을 피하기 위해\n",
    "2. 전체가 아닌 함수만 보수해주면 되기에 보수에 용이함."
   ]
  },
  {
   "cell_type": "markdown",
   "metadata": {},
   "source": [
    "#### 문제8"
   ]
  },
  {
   "cell_type": "code",
   "execution_count": 10,
   "metadata": {},
   "outputs": [
    {
     "name": "stdout",
     "output_type": "stream",
     "text": [
      "====사칙연산(+,-,*,/)====\n",
      "첫 번째 정수 입력 : 5\n",
      "두 번째 정수 입력 : 13\n",
      "연산자 입력 : +\n",
      "연산결과 : 18\n"
     ]
    }
   ],
   "source": [
    "print(\"=\"*4 +\"사칙연산(+,-,*,/)\"+\"=\"*4 )\n",
    "num1 = int(input(\"첫 번째 정수 입력 : \"))\n",
    "num2 = int(input(\"두 번째 정수 입력 : \"))\n",
    "op = input(\"연산자 입력 : \")\n",
    "\n",
    "if op == \"+\":\n",
    "    print(\"연산결과 : \" +str(num1+num2))\n",
    "elif op == \"-\":\n",
    "    print(\"연산결과 : {}\".format(num1-num2))\n",
    "elif op == \"*\":\n",
    "    print(\"연산결과 :\",(num1*num2))\n",
    "else: \n",
    "    print(\"연산결과 : %0.6f\" %(num1/num2))"
   ]
  },
  {
   "cell_type": "code",
   "execution_count": 11,
   "metadata": {},
   "outputs": [
    {
     "name": "stdout",
     "output_type": "stream",
     "text": [
      "====사칙연산(+,-,*,/)====\n",
      "첫 번째 정수 입력 : 5\n",
      "두 번째 정수 입력 : 7\n",
      "연산자 입력 : -\n",
      "연산결과 : -2\n"
     ]
    }
   ],
   "source": [
    "print(\"=\"*4 +\"사칙연산(+,-,*,/)\"+\"=\"*4 )\n",
    "num1 = int(input(\"첫 번째 정수 입력 : \"))\n",
    "num2 = int(input(\"두 번째 정수 입력 : \"))\n",
    "op = input(\"연산자 입력 : \")\n",
    "\n",
    "if op == \"+\":\n",
    "    print(\"연산결과 : \" +str(num1+num2))\n",
    "elif op == \"-\":\n",
    "    print(\"연산결과 : {}\".format(num1-num2))\n",
    "elif op == \"*\":\n",
    "    print(\"연산결과 :\",(num1*num2))\n",
    "else: \n",
    "    print(\"연산결과 : %0.6f\" %(num1/num2))"
   ]
  },
  {
   "cell_type": "code",
   "execution_count": 12,
   "metadata": {},
   "outputs": [
    {
     "name": "stdout",
     "output_type": "stream",
     "text": [
      "====사칙연산(+,-,*,/)====\n",
      "첫 번째 정수 입력 : 5\n",
      "두 번째 정수 입력 : 3\n",
      "연산자 입력 : *\n",
      "연산결과 : 15\n"
     ]
    }
   ],
   "source": [
    "print(\"=\"*4 +\"사칙연산(+,-,*,/)\"+\"=\"*4 )\n",
    "num1 = int(input(\"첫 번째 정수 입력 : \"))\n",
    "num2 = int(input(\"두 번째 정수 입력 : \"))\n",
    "op = input(\"연산자 입력 : \")\n",
    "\n",
    "if op == \"+\":\n",
    "    print(\"연산결과 : \" +str(num1+num2))\n",
    "elif op == \"-\":\n",
    "    print(\"연산결과 : {}\".format(num1-num2))\n",
    "elif op == \"*\":\n",
    "    print(\"연산결과 :\",(num1*num2))\n",
    "else: \n",
    "    print(\"연산결과 : %0.6f\" %(num1/num2))"
   ]
  },
  {
   "cell_type": "code",
   "execution_count": 13,
   "metadata": {},
   "outputs": [
    {
     "name": "stdout",
     "output_type": "stream",
     "text": [
      "====사칙연산(+,-,*,/)====\n",
      "첫 번째 정수 입력 : 7\n",
      "두 번째 정수 입력 : 2\n",
      "연산자 입력 : /\n",
      "연산결과 : 3.500000\n"
     ]
    }
   ],
   "source": [
    "print(\"=\"*4 +\"사칙연산(+,-,*,/)\"+\"=\"*4 )\n",
    "num1 = int(input(\"첫 번째 정수 입력 : \"))\n",
    "num2 = int(input(\"두 번째 정수 입력 : \"))\n",
    "op = input(\"연산자 입력 : \")\n",
    "\n",
    "if op == \"+\":\n",
    "    print(\"연산결과 : \" +str(num1+num2))\n",
    "elif op == \"-\":\n",
    "    print(\"연산결과 : {}\".format(num1-num2))\n",
    "elif op == \"*\":\n",
    "    print(\"연산결과 :\",(num1*num2))\n",
    "else: \n",
    "    print(\"연산결과 : %0.6f\" %(num1/num2))"
   ]
  },
  {
   "cell_type": "markdown",
   "metadata": {},
   "source": [
    "#### 문제9 (기초)"
   ]
  },
  {
   "cell_type": "code",
   "execution_count": 17,
   "metadata": {},
   "outputs": [
    {
     "name": "stdout",
     "output_type": "stream",
     "text": [
      "7*1=7  7*2=14  7*3=21  7*4=28  7*5=35  7*6=42  7*7=49  7*8=56  7*9=63  "
     ]
    }
   ],
   "source": [
    "i = 7\n",
    "for j in range(1, 10):\n",
    "    print(\"%d*%d=%d\"%(i,j,i*j), end=\"  \")"
   ]
  },
  {
   "cell_type": "markdown",
   "metadata": {},
   "source": [
    "#### 문제9 (응용)"
   ]
  },
  {
   "cell_type": "code",
   "execution_count": 14,
   "metadata": {},
   "outputs": [
    {
     "name": "stdout",
     "output_type": "stream",
     "text": [
      "2*1=2 3*1=3 4*1=4 5*1=5 6*1=6 7*1=7 8*1=8 9*1=9 \n",
      "2*2=4 3*2=6 4*2=8 5*2=10 6*2=12 7*2=14 8*2=16 9*2=18 \n",
      "2*3=6 3*3=9 4*3=12 5*3=15 6*3=18 7*3=21 8*3=24 9*3=27 \n",
      "2*4=8 3*4=12 4*4=16 5*4=20 6*4=24 7*4=28 8*4=32 9*4=36 \n",
      "2*5=10 3*5=15 4*5=20 5*5=25 6*5=30 7*5=35 8*5=40 9*5=45 \n",
      "2*6=12 3*6=18 4*6=24 5*6=30 6*6=36 7*6=42 8*6=48 9*6=54 \n",
      "2*7=14 3*7=21 4*7=28 5*7=35 6*7=42 7*7=49 8*7=56 9*7=63 \n",
      "2*8=16 3*8=24 4*8=32 5*8=40 6*8=48 7*8=56 8*8=64 9*8=72 \n",
      "2*9=18 3*9=27 4*9=36 5*9=45 6*9=54 7*9=63 8*9=72 9*9=81 \n"
     ]
    }
   ],
   "source": [
    "for i in range(1,10):\n",
    "    for j in range(2,10):\n",
    "        print(\"%d*%d=%d\" %(j,i,i*j), end= \" \")\n",
    "    print(\"\")"
   ]
  },
  {
   "cell_type": "markdown",
   "metadata": {},
   "source": [
    "#### 문제10"
   ]
  },
  {
   "cell_type": "code",
   "execution_count": 34,
   "metadata": {},
   "outputs": [
    {
     "name": "stdout",
     "output_type": "stream",
     "text": [
      "짝수 2개, 홀수 7개\n"
     ]
    }
   ],
   "source": [
    "list1 = [1,30,7,9,17,3,5,23,44]\n",
    "\n",
    "even = 0\n",
    "odd = 0\n",
    "\n",
    "for num in list1:\n",
    "    if num%2==0:\n",
    "        even += 1\n",
    "    else:\n",
    "        odd += 1\n",
    "\n",
    "print(\"짝수 %d개, 홀수 %d개\" %(even, odd))"
   ]
  },
  {
   "cell_type": "markdown",
   "metadata": {},
   "source": [
    "#### 문제11"
   ]
  },
  {
   "cell_type": "code",
   "execution_count": 65,
   "metadata": {},
   "outputs": [
    {
     "name": "stdout",
     "output_type": "stream",
     "text": [
      "=============================================\n",
      "이름     Python  Java    DB      평균    학점 \n",
      "=============================================\n",
      "김미희\n"
     ]
    }
   ],
   "source": [
    "score_list = [[\"김미희\", 89,78,99], [\"황해도\", 67,88,77], [\"박병관\", 100,55,96]]\n",
    "\n",
    "print(\"=\"*45)\n",
    "print(\"이름\" + \" \"*5 + \"Python\" + \" \"*2 + \"Java\"+ \" \"*4 + \"DB\"+ \" \"*6 + \"평균\"+\" \"*4 + \"학점\" + \" \")\n",
    "print(\"=\"*45)\n",
    "print(score_list[0][0])"
   ]
  },
  {
   "cell_type": "code",
   "execution_count": 71,
   "metadata": {},
   "outputs": [
    {
     "name": "stdout",
     "output_type": "stream",
     "text": [
      "김미희의 python 학점은 B\n",
      "김미희의 python 학점은 B\n",
      "김미희의 python 학점은 A\n"
     ]
    }
   ],
   "source": [
    "name = score_list[0][0]\n",
    "#sum = 0\n",
    "\n",
    "\n",
    "for score in score_list:    \n",
    "    if(score[1])>=90:\n",
    "        grade = \"A\"\n",
    "    elif (score[1])>=80:\n",
    "        grade = \"B\"\n",
    "    elif (score[1])>=70:\n",
    "        grade = \"C\"\n",
    "    elif (score[1])>=60:\n",
    "        garde = \"D\"\n",
    "    else:\n",
    "        grade = \"F\"\n",
    "    #\n",
    "         #sum += sum\n",
    "#average = \n",
    "    print(\"%s의 python 학점은 %s\" %(name, grade))\n"
   ]
  }
 ],
 "metadata": {
  "kernelspec": {
   "display_name": "Python 3",
   "language": "python",
   "name": "python3"
  },
  "language_info": {
   "codemirror_mode": {
    "name": "ipython",
    "version": 3
   },
   "file_extension": ".py",
   "mimetype": "text/x-python",
   "name": "python",
   "nbconvert_exporter": "python",
   "pygments_lexer": "ipython3",
   "version": "3.7.6"
  }
 },
 "nbformat": 4,
 "nbformat_minor": 4
}
