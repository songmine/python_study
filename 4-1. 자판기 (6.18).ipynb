{
 "cells": [
  {
   "cell_type": "code",
   "execution_count": 34,
   "metadata": {},
   "outputs": [
    {
     "name": "stdout",
     "output_type": "stream",
     "text": [
      "Insert coin>>5000\n",
      "메뉴선택 >>4\n",
      "없는 메뉴입니다.\n"
     ]
    }
   ],
   "source": [
    "insert_coin = int(input(\"Insert coin>>\"))\n",
    "select_menu = int(input(\"메뉴선택 >>\"))  # 1, 2, 3\n",
    "return_coin_1000= return_coin_500 = return_coin_100 = 0\n",
    "item_price = [['콜라',600],['사이다', 800],['물',1000]]     # 0 ,1, 2\n",
    "\n",
    "if( (select_menu > len(item_price)) or ( select_menu < 1 )):\n",
    "    print('없는 메뉴입니다.')\n",
    "else:\n",
    "    return_price = insert_coin - item_price[select_menu-1][1]\n",
    "    \n",
    "    if item_price[select_menu-1][1] > insert_coin :\n",
    "        print(\"잔액이 부족합니다\")\n",
    "    else:\n",
    "        return_coin_1000 = (return_price) // 1000\n",
    "        return_coin_500 = (return_price %1000)// 500\n",
    "        return_coin_100 = ((return_price % 1000)%500)// 100\n",
    "\n",
    "        print(\"잔돈 >> 1000원 {}개, 500원 {}개, 100원 {}개\".format(return_coin_1000, return_coin_500, return_coin_100))\n"
   ]
  },
  {
   "cell_type": "code",
   "execution_count": 3,
   "metadata": {},
   "outputs": [],
   "source": [
    "list2 = [1,2,3,['a','b','c']]"
   ]
  },
  {
   "cell_type": "code",
   "execution_count": 4,
   "metadata": {},
   "outputs": [],
   "source": [
    "temp = list2[3]"
   ]
  },
  {
   "cell_type": "code",
   "execution_count": 5,
   "metadata": {},
   "outputs": [
    {
     "data": {
      "text/plain": [
       "['a', 'b', 'c']"
      ]
     },
     "execution_count": 5,
     "metadata": {},
     "output_type": "execute_result"
    }
   ],
   "source": [
    "temp"
   ]
  },
  {
   "cell_type": "code",
   "execution_count": 11,
   "metadata": {},
   "outputs": [],
   "source": [
    "temp = list2[3][1]\n"
   ]
  },
  {
   "cell_type": "code",
   "execution_count": 12,
   "metadata": {},
   "outputs": [
    {
     "data": {
      "text/plain": [
       "'b'"
      ]
     },
     "execution_count": 12,
     "metadata": {},
     "output_type": "execute_result"
    }
   ],
   "source": [
    "temp"
   ]
  },
  {
   "cell_type": "code",
   "execution_count": 26,
   "metadata": {
    "scrolled": true
   },
   "outputs": [
    {
     "name": "stdout",
     "output_type": "stream",
     "text": [
      "[1, 2, 3, 4, 7]\n",
      "[1, ['a', 'b', 'c'], 3, 4, 7]\n",
      "[1, ['a', 'b', 'c'], 3, 'd', 'e', 'f', 'g']\n",
      "['h', 'i', 'j', ['a', 'b', 'c'], 3, 'd', 'e', 'f', 'g']\n"
     ]
    }
   ],
   "source": [
    "array = [1,2,3,4,5]\n",
    "array[4] = 7\n",
    "print( array )\n",
    "array[1] =['a','b','c']\n",
    "print( array)\n",
    "array[3:] =['d','e','f','g']\n",
    "print( array )\n",
    "array[0:1]=['h','i','j']\n",
    "print( array )"
   ]
  },
  {
   "cell_type": "code",
   "execution_count": 18,
   "metadata": {},
   "outputs": [
    {
     "name": "stdout",
     "output_type": "stream",
     "text": [
      "[1, 2, 3, 4, 7]\n"
     ]
    }
   ],
   "source": []
  },
  {
   "cell_type": "code",
   "execution_count": null,
   "metadata": {},
   "outputs": [],
   "source": []
  }
 ],
 "metadata": {
  "kernelspec": {
   "display_name": "Python 3",
   "language": "python",
   "name": "python3"
  },
  "language_info": {
   "codemirror_mode": {
    "name": "ipython",
    "version": 3
   },
   "file_extension": ".py",
   "mimetype": "text/x-python",
   "name": "python",
   "nbconvert_exporter": "python",
   "pygments_lexer": "ipython3",
   "version": "3.7.6"
  }
 },
 "nbformat": 4,
 "nbformat_minor": 4
}
