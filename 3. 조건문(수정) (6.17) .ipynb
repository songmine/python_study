{
 "cells": [
  {
   "cell_type": "markdown",
   "metadata": {},
   "source": [
    "#### 조건문 if"
   ]
  },
  {
   "cell_type": "code",
   "execution_count": 1,
   "metadata": {},
   "outputs": [
    {
     "name": "stdout",
     "output_type": "stream",
     "text": [
      "실행문장 실행\n"
     ]
    }
   ],
   "source": [
    "if True:\n",
    "    print(\"실행문장 실행\")"
   ]
  },
  {
   "cell_type": "code",
   "execution_count": 2,
   "metadata": {},
   "outputs": [],
   "source": [
    "if False:\n",
    "    print(\"실행문장 실행\")"
   ]
  },
  {
   "cell_type": "code",
   "execution_count": 3,
   "metadata": {},
   "outputs": [
    {
     "name": "stdout",
     "output_type": "stream",
     "text": [
      "실행문장 실행\n",
      "if문 밖에 있는 실행문장\n"
     ]
    }
   ],
   "source": [
    "if True:\n",
    "    print(\"실행문장 실행\")\n",
    "print(\"if문 밖에 있는 실행문장\")"
   ]
  },
  {
   "cell_type": "code",
   "execution_count": 4,
   "metadata": {},
   "outputs": [
    {
     "name": "stdout",
     "output_type": "stream",
     "text": [
      "if문 밖에 있는 실행문장\n"
     ]
    }
   ],
   "source": [
    "if False:\n",
    "    print(\"실행문장 실행\")\n",
    "print(\"if문 밖에 있는 실행문장\")"
   ]
  },
  {
   "cell_type": "markdown",
   "metadata": {},
   "source": [
    "#### 조건문 if else"
   ]
  },
  {
   "cell_type": "code",
   "execution_count": 7,
   "metadata": {},
   "outputs": [
    {
     "name": "stdout",
     "output_type": "stream",
     "text": [
      "택시를 탄다.\n"
     ]
    }
   ],
   "source": [
    "money = 11000\n",
    "if (money >= 10000):\n",
    "    print(\"택시를 탄다.\")\n",
    "else:\n",
    "    print(\"버스를 탄다.\")"
   ]
  },
  {
   "cell_type": "code",
   "execution_count": 11,
   "metadata": {},
   "outputs": [
    {
     "name": "stdout",
     "output_type": "stream",
     "text": [
      "버스를 탄다.\n",
      "음악을 듣는다.\n",
      "집에 도착했다.\n"
     ]
    }
   ],
   "source": [
    "money = 9000\n",
    "if (money >= 10000):\n",
    "    print(\"택시를 탄다.\")\n",
    "else:\n",
    "    print(\"버스를 탄다.\")\n",
    "    print(\"음악을 듣는다.\")\n",
    "print(\"집에 도착했다.\")"
   ]
  },
  {
   "cell_type": "code",
   "execution_count": 14,
   "metadata": {},
   "outputs": [
    {
     "name": "stdout",
     "output_type": "stream",
     "text": [
      "정수 입력 >> 30\n",
      "3과 5의 배수입니다.\n"
     ]
    }
   ],
   "source": [
    "num = int(input(\"정수 입력 >> \"))\n",
    "if ( ((num%3)==0 ) and ( (num%5)==0) ):\n",
    "    print(\"3과 5의 배수입니다.\")\n",
    "else:\n",
    "    print(\"3과 5의 배수가 아닙니다.\")"
   ]
  },
  {
   "cell_type": "code",
   "execution_count": 1,
   "metadata": {},
   "outputs": [
    {
     "name": "stdout",
     "output_type": "stream",
     "text": [
      "정수 입력 >> 15\n",
      "3과 5의 배수입니다.\n"
     ]
    }
   ],
   "source": [
    "num = int(input(\"정수 입력 >> \"))\n",
    "if ((not(num%3)) and (not(num%5))):             #num%3 = 0이 나오는데, 0값=False. 즉,num%3 앞에 not을 붙여주어 True 만듦.\n",
    "    print(\"3과 5의 배수입니다.\")\n",
    "else:\n",
    "    print(\"3과 5의 배수가 아닙니다.\")"
   ]
  },
  {
   "cell_type": "markdown",
   "metadata": {},
   "source": [
    "#### 조건문 elif"
   ]
  },
  {
   "cell_type": "code",
   "execution_count": 2,
   "metadata": {},
   "outputs": [
    {
     "name": "stdout",
     "output_type": "stream",
     "text": [
      "실행문장1\n"
     ]
    }
   ],
   "source": [
    "if True:\n",
    "    print(\"실행문장1\")\n",
    "elif True:\n",
    "    print(\"실행문장2\")"
   ]
  },
  {
   "cell_type": "code",
   "execution_count": 6,
   "metadata": {},
   "outputs": [
    {
     "name": "stdout",
     "output_type": "stream",
     "text": [
      "첫 번째 정수 입력 >> 7\n",
      "두 번째 정수 입력 >> 7\n",
      "두 수가 똑같습니다.\n"
     ]
    }
   ],
   "source": [
    "num1 = int(input(\"첫 번째 정수 입력 >> \"))\n",
    "num2 = int(input(\"두 번째 정수 입력 >> \"))\n",
    "\n",
    "if (num1>num2):\n",
    "    print(\"첫 번째 정수가 더 큽니다.\")\n",
    "elif (num1<num2):\n",
    "    print(\"두 번째 정수가 더 큽니다.\")\n",
    "else:                                          #elif (num ==num2) : <<<로 써도 됨.\n",
    "    print(\"두 수가 똑같습니다.\")"
   ]
  },
  {
   "cell_type": "code",
   "execution_count": 12,
   "metadata": {},
   "outputs": [
    {
     "name": "stdout",
     "output_type": "stream",
     "text": [
      "점수 입력 >> 36\n",
      "36점은 F학점 입니다.\n"
     ]
    }
   ],
   "source": [
    "score = int(input(\"점수 입력 >> \"))\n",
    "\n",
    "if (score >=90):                                   # if(num<=100 and num>=90)\n",
    "    print(\"{}점은 A학점 입니다.\".format(score))           # print(\"%d학점은 A학점 입니다\"%num)\n",
    "elif (score >=80):                                # elif(num<90 and num>=80)                                   \n",
    "    print(\"{}점은 B학점 입니다.\".format(score))           # print(\"%d학점은 B학점 입니다\"%num)\n",
    "elif (score >=70):                                # elif(num<80 and num>=70)                                  \n",
    "    print(\"{}점은 C학점 입니다.\".format(score))           # print(\"%d학점은 C학점 입니다\"%num)\n",
    "elif (score >=60):                                # elif(num<70 and num>=60)                                   \n",
    "    print(\"{}점은 D학점 입니다.\".format(score))           # print(\"%d학점은 D학점 입니다\"%num)\n",
    "else:                                             # elif (num<60)\n",
    "    print(\"{}점은 F학점 입니다.\".format(score))           # print(\"%d학점은 F학점 입니다\"%num)"
   ]
  },
  {
   "cell_type": "code",
   "execution_count": null,
   "metadata": {},
   "outputs": [],
   "source": [
    "score = int(input(\"점수 입력 >> \"))\n",
    "grd = ''\n",
    "\n",
    "if (score >=90):  \n",
    "    grd = 'A'\n",
    "elif (score >=80):                                                        \n",
    "    grd = 'B'          \n",
    "elif (score >=70):                                    \n",
    "    grd = 'C'     \n",
    "elif (score >=60):                                     \n",
    "    grd = 'D'           \n",
    "else:                        \n",
    "    grd = 'F'          \n",
    "    \n",
    "print(\"%d점은 %c학점 입니다\"%(score, grd))"
   ]
  },
  {
   "cell_type": "markdown",
   "metadata": {},
   "source": [
    "<hr>"
   ]
  },
  {
   "cell_type": "markdown",
   "metadata": {},
   "source": [
    "# 자판기"
   ]
  },
  {
   "cell_type": "code",
   "execution_count": 2,
   "metadata": {},
   "outputs": [
    {
     "name": "stdout",
     "output_type": "stream",
     "text": [
      "================================================\n",
      "================---- 자판기 ----================\n",
      "================================================\n",
      "== 1.콜라 == 2.사이다 ==  3.물  =======insert===\n",
      "==--------==----------==--------=======------===\n",
      "==   600  ==    800   ==  1000  ======= 000원===\n",
      "=======================================------===\n",
      "================================================\n",
      "==++++++++++++++++++++++++++++++++++++++++++++==\n",
      "==++++++++++++++++++++++++++++++++++++++++++++==\n",
      "==++++++++++++++++++++++++++++++++++++++++++++==\n",
      "==+++++++++++++++              +++++++++++++++==\n",
      "==+++++++++++++++     SMHRD    +++++++++++++++==\n",
      "==+++++++++++++++              +++++++++++++++==\n",
      "==++++++++++++++++++++++++++++++++++++++++++++==\n",
      "==++++++++++++++++++++++++++++++++++++++++++++==\n",
      "================================================\n",
      "================================================\n",
      "  ===                                      ===  \n",
      "  ===                                      ===  \n",
      "\n"
     ]
    }
   ],
   "source": [
    "print(\"=\"*48)\n",
    "print(\"=\"*16+\"-\"*4, \"자판기\", \"-\"*4+\"=\"*16)\n",
    "print(\"=\"*48)\n",
    "print(\"==\", \"1.콜라\", \"==\", \"2.사이다\", \"==\", \" 3.물 \", \"=\"*7+\"insert===\")\n",
    "print(\"==\"+\"-\"*8+\"==\"+\"-\"*10+\"==\"+\"-\"*8+\"=\"*7+\"-\"*6+\"===\")\n",
    "print(\"==   600  ==    800   ==  1000  \"+\"=\"*7+\" 000원===\")\n",
    "print(\"=\"*39+\"-\"*6+\"===\")\n",
    "print(\"=\"*48)\n",
    "print(\"==\"+\"+\"*44+\"==\")\n",
    "print(\"==\"+\"+\"*44+\"==\")\n",
    "print(\"==\"+\"+\"*44+\"==\")\n",
    "print(\"==\"+\"+\"*15+\" \"*14+\"+\"*15+\"==\")\n",
    "print(\"==\"+\"+\"*15+\"     SMHRD    \"+\"+\"*15+\"==\")\n",
    "print(\"==\"+\"+\"*15+\" \"*14+\"+\"*15+\"==\")\n",
    "print(\"==\"+\"+\"*44+\"==\")\n",
    "print(\"==\"+\"+\"*44+\"==\")\n",
    "print(\"=\"*48)\n",
    "print(\"=\"*48)\n",
    "print(\"  ===\"+\" \"*38+\"===  \")\n",
    "print(\"  ===\"+\" \"*38+\"===  \\n\")"
   ]
  },
  {
   "cell_type": "code",
   "execution_count": null,
   "metadata": {},
   "outputs": [],
   "source": [
    "cok = 600\n",
    "spr = 800\n",
    "wat = 1000\n",
    "\n",
    "coin = int(input(\"Insert coin >>\"))\n",
    "menu = int(input(\"메뉴 선택 >>\"))\n",
    "\n",
    "if (menu==1) and (coin>=600):\n",
    "    coin = coin - cok\n",
    "elif (menu==2) and (coin>=800):\n",
    "    coin = coin - spr\n",
    "elif (menu==3) and (coin>=1000):\n",
    "    coin = coin - wat\n",
    "else:\n",
    "    print(\"잔액부족\")\n",
    "    \n",
    "print(\"잔돈 >> 1000원 {}개, 500원 {}개, 100원 {}개\".format(coin//1000,(coin%1000)//500,(coin%1000)%500//100))"
   ]
  },
  {
   "cell_type": "code",
   "execution_count": null,
   "metadata": {},
   "outputs": [],
   "source": [
    "cok = 600\n",
    "spr = 800\n",
    "wat = 1000\n",
    "\n",
    "coin = int(input(\"Insert coin >>\"))\n",
    "menu = int(input(\"메뉴 선택 >>\"))\n",
    "\n",
    "if (menu==1) and (coin>=600):\n",
    "    coin = coin - cok\n",
    "elif (menu==2) and (coin>=800):\n",
    "    coin = coin - spr\n",
    "elif (menu==3) and (coin>=1000):\n",
    "    coin = coin - wat\n",
    "else:\n",
    "    print(\"잔액부족\")\n",
    "    \n",
    "chun = coin//1000\n",
    "oh = (coin%1000)//500\n",
    "bak = ((coin%1000)%500)//100\n",
    "    \n",
    "print(\"잔돈 >> 1000원 %d개, 500원 %d개, 100원 %d개\"%(chun, oh, bak))"
   ]
  },
  {
   "cell_type": "code",
   "execution_count": 16,
   "metadata": {},
   "outputs": [
    {
     "ename": "SyntaxError",
     "evalue": "invalid syntax (<ipython-input-16-a27a56b50807>, line 19)",
     "output_type": "error",
     "traceback": [
      "\u001b[1;36m  File \u001b[1;32m\"<ipython-input-16-a27a56b50807>\"\u001b[1;36m, line \u001b[1;32m19\u001b[0m\n\u001b[1;33m    return_coin_100 = (insert_coin - item - (return_coin_1000*1000)-return_coin_500 *500))// 100\u001b[0m\n\u001b[1;37m                                                                                         ^\u001b[0m\n\u001b[1;31mSyntaxError\u001b[0m\u001b[1;31m:\u001b[0m invalid syntax\n"
     ]
    }
   ],
   "source": [
    "insert_coin = int(input(\"insert coin>>\"))\n",
    "select_menu = int(input(\"메뉴선택 >>\"))\n",
    "return_coin_1000 = return_coin_500 = return_coin_100 = 0\n",
    "\n",
    "if select_menu == 1 :\n",
    "    item = price = 600\n",
    "elif select_menu == 2 :\n",
    "    item = price = 800\n",
    "elif select_menu == 3 :\n",
    "    item = price = 1000\n",
    "else:\n",
    "    print(\"없는 메뉴입니다.\")\n",
    "    \n",
    "if item_price > insert_coin:\n",
    "    print(\"잔액이 부족합니다\")\n",
    "else:\n",
    "    return_coin_1000 = (insert_coin - item_price) // 1000\n",
    "    return_coin_500 = (insert_coin - item_price - (return_coin_1000 *1000))//500\n",
    "    return_coin_100 = (insert_coin = item - (return_coin_1000*1000)-return_coin)\n",
    "    \n",
    "print(\"잔돈 >> 1000원 {}개, 500원 {}개, 100원 {}개\")    "
   ]
  },
  {
   "cell_type": "code",
   "execution_count": 1,
   "metadata": {},
   "outputs": [
    {
     "name": "stdout",
     "output_type": "stream",
     "text": [
      "insert coin>>5000\n",
      "메뉴선택 >>3\n",
      "잔돈 >> 1000원 4개, 500원 0개, 100원 0개\n"
     ]
    }
   ],
   "source": [
    "insert_coin = int(input(\"insert coin>>\"))\n",
    "select_menu = int(input(\"메뉴선택 >>\"))\n",
    "return_coin_1000 = return_coin_500 = return_coin_100 = 0\n",
    "\n",
    "if select_menu == 1 :\n",
    "    item_price = 600\n",
    "    return_price = insert_coin - item_price\n",
    "elif select_menu == 2 :\n",
    "    item_price = 800\n",
    "    return_price = insert_coin - item_price\n",
    "elif select_menu == 3 :\n",
    "    item_price = 1000\n",
    "    return_price = insert_coin - item_price\n",
    "else:\n",
    "    print(\"없는 메뉴입니다.\")\n",
    "    \n",
    "if item_price > insert_coin:\n",
    "    print(\"잔액이 부족합니다\")\n",
    "else:\n",
    "    return_coin_1000 = (return_price) // 1000\n",
    "    return_coin_500 = (return_price%1000)//500\n",
    "    return_coin_100 = ((return_price % 1000)%500)// 100 \n",
    "    \n",
    "print(\"잔돈 >> 1000원 {}개, 500원 {}개, 100원 {}개\".format(return_coin_1000, return_coin_500, return_coin_100)) "
   ]
  }
 ],
 "metadata": {
  "kernelspec": {
   "display_name": "Python 3",
   "language": "python",
   "name": "python3"
  },
  "language_info": {
   "codemirror_mode": {
    "name": "ipython",
    "version": 3
   },
   "file_extension": ".py",
   "mimetype": "text/x-python",
   "name": "python",
   "nbconvert_exporter": "python",
   "pygments_lexer": "ipython3",
   "version": "3.7.6"
  }
 },
 "nbformat": 4,
 "nbformat_minor": 4
}
