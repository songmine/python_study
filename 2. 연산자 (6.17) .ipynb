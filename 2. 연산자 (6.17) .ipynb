{
 "cells": [
  {
   "cell_type": "code",
   "execution_count": 1,
   "metadata": {},
   "outputs": [
    {
     "name": "stdout",
     "output_type": "stream",
     "text": [
      "1.4285714285714286\n",
      "3\n",
      "1\n"
     ]
    }
   ],
   "source": [
    "num1 = 10\n",
    "num2 = 7\n",
    "\n",
    "print(num1/num2)\n",
    "print(num1%num2)\n",
    "print(num1//num2)"
   ]
  },
  {
   "cell_type": "code",
   "execution_count": 2,
   "metadata": {},
   "outputs": [
    {
     "name": "stdout",
     "output_type": "stream",
     "text": [
      "안녕하세요\n"
     ]
    }
   ],
   "source": [
    "str1 = \"안녕\"\n",
    "str2 = \"하세요\"\n",
    "\n",
    "print(str1 + str2)      #print(str1, str2) 둘은 별도 독립적인걸로 되어, 띄어쓰기 생김 = \"안녕 하세요\" 출력"
   ]
  },
  {
   "cell_type": "code",
   "execution_count": 3,
   "metadata": {},
   "outputs": [
    {
     "name": "stdout",
     "output_type": "stream",
     "text": [
      "107\n"
     ]
    }
   ],
   "source": [
    "str1 = \"10\"\n",
    "str2 = \"7\"\n",
    "\n",
    "print(str1 + str2)"
   ]
  },
  {
   "cell_type": "code",
   "execution_count": 4,
   "metadata": {},
   "outputs": [
    {
     "ename": "TypeError",
     "evalue": "unsupported operand type(s) for +: 'int' and 'str'",
     "output_type": "error",
     "traceback": [
      "\u001b[1;31m---------------------------------------------------------------------------\u001b[0m",
      "\u001b[1;31mTypeError\u001b[0m                                 Traceback (most recent call last)",
      "\u001b[1;32m<ipython-input-4-a7240c4786bd>\u001b[0m in \u001b[0;36m<module>\u001b[1;34m\u001b[0m\n\u001b[0;32m      2\u001b[0m \u001b[0mstr2\u001b[0m \u001b[1;33m=\u001b[0m \u001b[1;34m\"7\"\u001b[0m\u001b[1;33m\u001b[0m\u001b[1;33m\u001b[0m\u001b[0m\n\u001b[0;32m      3\u001b[0m \u001b[1;33m\u001b[0m\u001b[0m\n\u001b[1;32m----> 4\u001b[1;33m \u001b[0mprint\u001b[0m\u001b[1;33m(\u001b[0m\u001b[0mnum1\u001b[0m \u001b[1;33m+\u001b[0m \u001b[0mstr2\u001b[0m\u001b[1;33m)\u001b[0m\u001b[1;33m\u001b[0m\u001b[1;33m\u001b[0m\u001b[0m\n\u001b[0m",
      "\u001b[1;31mTypeError\u001b[0m: unsupported operand type(s) for +: 'int' and 'str'"
     ]
    }
   ],
   "source": [
    "num1 = 10\n",
    "str2 = \"7\"\n",
    "\n",
    "print(num1 + str2)"
   ]
  },
  {
   "cell_type": "code",
   "execution_count": 5,
   "metadata": {},
   "outputs": [
    {
     "name": "stdout",
     "output_type": "stream",
     "text": [
      "107\n",
      "17\n"
     ]
    }
   ],
   "source": [
    "num1 = 10\n",
    "str2 = \"7\"\n",
    "\n",
    "print(str(num1) +str2)            #형 변환 연산자. 해당 줄에서만 연산자 변환\n",
    "print(num1 + int(str2))"
   ]
  },
  {
   "cell_type": "code",
   "execution_count": 9,
   "metadata": {},
   "outputs": [
    {
     "name": "stdout",
     "output_type": "stream",
     "text": [
      "더하기 결과 : 26\n",
      "빼기 결과 : 20\n",
      "곱하기 결과 : 69\n",
      "나누기 결과 :7.666666666666667\n"
     ]
    }
   ],
   "source": [
    "num1 = 23\n",
    "num2 = 3\n",
    "\n",
    "print(\"더하기 결과 : {}\".format(num1+num2))\n",
    "print(\"빼기 결과 : %d\"%(num1-num2))             #서식이 중요한 경우 %d 이용. eg., ....%3d...\n",
    "print(\"곱하기 결과 :\",num1*num2)\n",
    "print(\"나누기 결과 :\"+str(num1/num2))"
   ]
  },
  {
   "cell_type": "markdown",
   "metadata": {},
   "source": [
    "<hr>"
   ]
  },
  {
   "cell_type": "markdown",
   "metadata": {},
   "source": [
    "### a = input(\"messages..\") 현재a는 문자. \n",
    "### a = int(input(\"messages..\") a는 숫자\n",
    "#### cf., a = int(a)  <<정수형으로 변환된 a"
   ]
  },
  {
   "cell_type": "code",
   "execution_count": 7,
   "metadata": {},
   "outputs": [
    {
     "name": "stdout",
     "output_type": "stream",
     "text": [
      "첫 번째 숫자를 입력하시오. : 52\n",
      "두 번째 숫자를 입력하시오. : 12\n",
      "더하기 결과 :  64\n",
      "빼기 결과 :  40\n",
      "곱하기 결과 : 624\n",
      "나누기 결과 :4.3\n",
      "더하기 결과 :64\n",
      "빼기 결과 :40\n",
      "곱하기 결과 :624\n",
      "나누기 결과 :4.3\n"
     ]
    }
   ],
   "source": [
    "num1 = input(\"첫 번째 숫자를 입력하시오. : \")\n",
    "num2 = input(\"두 번째 숫자를 입력하시오. : \")\n",
    "\n",
    "num1 = int(num1)\n",
    "num2 = int(num2)\n",
    "\n",
    "print(\"더하기 결과 :%4d\"%(num1+num2))\n",
    "print(\"빼기 결과 :%4d\"%(num1-num2))\n",
    "print(\"곱하기 결과 :%4d\"%(num1*num2))\n",
    "print(\"나누기 결과 :%2.1f\"%(num1/num2)) #나누기는 정수(%d)가아닌 실수로(%f)    #%2.3f정수형은 두자리, 소수형은 소수점으로 세자리만 출력\n",
    "\n",
    "print(\"더하기 결과 :%d\"%(num1+num2))\n",
    "print(\"빼기 결과 :%d\"%(num1-num2))\n",
    "print(\"곱하기 결과 :%d\"%(num1*num2))\n",
    "print(\"나누기 결과 :%2.1f\"%(num1/num2))"
   ]
  },
  {
   "cell_type": "code",
   "execution_count": 8,
   "metadata": {},
   "outputs": [
    {
     "name": "stdout",
     "output_type": "stream",
     "text": [
      "정수를 입력하세요 >> 123\n"
     ]
    }
   ],
   "source": [
    "num = int(input(\"정수를 입력하세요 >> \"))     #float 문자를 실수형으로 입력"
   ]
  },
  {
   "cell_type": "code",
   "execution_count": 10,
   "metadata": {},
   "outputs": [
    {
     "name": "stdout",
     "output_type": "stream",
     "text": [
      "python 점수 입력 >> 100\n",
      "머신러닝 점수 입력 >> 80\n",
      "딥러닝 점수 입력 >> 60\n",
      "합계 : 240\n",
      "평균 : 80.0\n"
     ]
    }
   ],
   "source": [
    "pt = int(input(\"python 점수 입력 >> \"))\n",
    "ml = int(input(\"머신러닝 점수 입력 >> \"))\n",
    "dl = int(input(\"딥러닝 점수 입력 >> \"))\n",
    "\n",
    "sum = pt + ml + dl\n",
    "\n",
    "print(\"합계 : {}\".format(sum))\n",
    "print(\"평균 : {}\".format(sum/3))"
   ]
  },
  {
   "cell_type": "markdown",
   "metadata": {},
   "source": [
    "##### 초를 입력 받아 \"00시간 00분 00초\" 형태로 출력하시오."
   ]
  },
  {
   "cell_type": "code",
   "execution_count": 1,
   "metadata": {},
   "outputs": [
    {
     "name": "stdout",
     "output_type": "stream",
     "text": [
      "시간 입력 >> 7533\n",
      "2.0시간 5분 33초\n"
     ]
    }
   ],
   "source": [
    "time = int(input(\"시간 입력 >> \"))     #여기에 초를 입력받고\n",
    "hour =  time//3600                     #1hr=60mins=60secs   >>> 초의 값을 입력받았으니, 시간을 구하기위해서는 /3600의 몫의 값 필요. \n",
    "minute = (time%3600)//60               #시간에 할당된 값을 제외한 hour의 나머지값의 /60의 몫 필요.\n",
    "second = (time%3600)%60                #\n",
    "print(\"{}시간 {}분 {}초\".format(hour, minute, second))"
   ]
  },
  {
   "cell_type": "code",
   "execution_count": 4,
   "metadata": {},
   "outputs": [
    {
     "name": "stdout",
     "output_type": "stream",
     "text": [
      "시간 입력(초단위) >> 7533\n",
      " 2시간  5분 33초\n",
      " 2시간  5분 33초\n",
      "2시간 5분 33초\n"
     ]
    }
   ],
   "source": [
    "time = int(input(\"시간 입력(초단위) >> \"))\n",
    "hour = int(time/3600)\n",
    "minute = int((time%3600)/60)\n",
    "second = int((time%3600)%60)\n",
    "\n",
    "print(\"%2d시간 %2d분 %2d초\"%(hour, minute, second))\n",
    "\n",
    "hour2 = time/(60*60)\n",
    "minute2 = (time/60) % 60\n",
    "second2 = ((time%60)%60)%60\n",
    "\n",
    "print(\"%2d시간 %2d분 %2d초\"%(hour2, minute2, second2))\n",
    "\n",
    "print(\"{}시간 {}분 {}초\".format(int(hour2), int(minute2), int(second2)))"
   ]
  },
  {
   "cell_type": "markdown",
   "metadata": {},
   "source": [
    "<hr>"
   ]
  },
  {
   "cell_type": "markdown",
   "metadata": {},
   "source": [
    "##### 문자열 곱하기"
   ]
  },
  {
   "cell_type": "code",
   "execution_count": 17,
   "metadata": {},
   "outputs": [
    {
     "name": "stdout",
     "output_type": "stream",
     "text": [
      "xxxxxxxxxx\n"
     ]
    }
   ],
   "source": [
    "s = \"x\"\n",
    "print(s*10)       "
   ]
  },
  {
   "cell_type": "code",
   "execution_count": 18,
   "metadata": {},
   "outputs": [
    {
     "name": "stdout",
     "output_type": "stream",
     "text": [
      "안녕하세요안녕하세요\n"
     ]
    }
   ],
   "source": [
    "s = \"안녕하세요\"\n",
    "print(s*2)"
   ]
  },
  {
   "cell_type": "markdown",
   "metadata": {},
   "source": [
    "#### 지수 연산자(**)"
   ]
  },
  {
   "cell_type": "code",
   "execution_count": 20,
   "metadata": {},
   "outputs": [
    {
     "name": "stdout",
     "output_type": "stream",
     "text": [
      "정수 입력 >>2\n",
      "지수 입력 >>3\n",
      "2의 3승은 8입니다.\n"
     ]
    }
   ],
   "source": [
    "num = int(input(\"정수 입력 >>\"))\n",
    "power = int(input(\"지수 입력 >>\"))\n",
    "print(\"{}의 {}승은 {}입니다.\".format(num, power, num**power))"
   ]
  },
  {
   "cell_type": "markdown",
   "metadata": {},
   "source": [
    "#### 대입(복합)연산자"
   ]
  },
  {
   "cell_type": "code",
   "execution_count": 21,
   "metadata": {},
   "outputs": [
    {
     "data": {
      "text/plain": [
       "30"
      ]
     },
     "execution_count": 21,
     "metadata": {},
     "output_type": "execute_result"
    }
   ],
   "source": [
    "num = 27\n",
    "\n",
    "num += 3\n",
    "num"
   ]
  },
  {
   "cell_type": "code",
   "execution_count": 23,
   "metadata": {},
   "outputs": [
    {
     "data": {
      "text/plain": [
       "30"
      ]
     },
     "execution_count": 23,
     "metadata": {},
     "output_type": "execute_result"
    }
   ],
   "source": [
    "num = 27\n",
    "\n",
    "num = num + 3\n",
    "num"
   ]
  },
  {
   "cell_type": "code",
   "execution_count": 25,
   "metadata": {},
   "outputs": [
    {
     "data": {
      "text/plain": [
       "36"
      ]
     },
     "execution_count": 25,
     "metadata": {},
     "output_type": "execute_result"
    }
   ],
   "source": [
    "num = 27\n",
    "\n",
    "num += 3\n",
    "num += 3\n",
    "num += 3\n",
    "num"
   ]
  },
  {
   "cell_type": "code",
   "execution_count": 26,
   "metadata": {},
   "outputs": [
    {
     "data": {
      "text/plain": [
       "36"
      ]
     },
     "execution_count": 26,
     "metadata": {},
     "output_type": "execute_result"
    }
   ],
   "source": [
    "num = 27\n",
    "\n",
    "num = num + 3\n",
    "num = num + 3\n",
    "num = num + 3\n",
    "num"
   ]
  },
  {
   "cell_type": "markdown",
   "metadata": {},
   "source": [
    "##### 치환"
   ]
  },
  {
   "cell_type": "code",
   "execution_count": 30,
   "metadata": {},
   "outputs": [
    {
     "name": "stdout",
     "output_type": "stream",
     "text": [
      "a : 3\n",
      "b : 7\n"
     ]
    }
   ],
   "source": [
    "a = 3\n",
    "b = 7\n",
    "\n",
    "print(\"a : {}\".format(a))\n",
    "print(\"b : {}\".format(b))"
   ]
  },
  {
   "cell_type": "code",
   "execution_count": 31,
   "metadata": {},
   "outputs": [
    {
     "name": "stdout",
     "output_type": "stream",
     "text": [
      "a : 7\n",
      "b : 3\n"
     ]
    }
   ],
   "source": [
    "temp = a\n",
    "a = b\n",
    "b = temp\n",
    "\n",
    "print(\"a : {}\".format(a))\n",
    "print(\"b : {}\".format(b))"
   ]
  },
  {
   "cell_type": "code",
   "execution_count": 32,
   "metadata": {},
   "outputs": [
    {
     "name": "stdout",
     "output_type": "stream",
     "text": [
      "a : 3\n",
      "b : 7\n"
     ]
    }
   ],
   "source": [
    "a,b = b,a\n",
    "\n",
    "print(\"a : {}\".format(a))\n",
    "print(\"b : {}\".format(b))"
   ]
  },
  {
   "cell_type": "markdown",
   "metadata": {},
   "source": [
    "#### 비교 연산자"
   ]
  },
  {
   "cell_type": "code",
   "execution_count": 33,
   "metadata": {},
   "outputs": [
    {
     "name": "stdout",
     "output_type": "stream",
     "text": [
      "False\n",
      "True\n",
      "False\n",
      "True\n"
     ]
    }
   ],
   "source": [
    "a = 3\n",
    "b = 7\n",
    "\n",
    "print(a > b)\n",
    "print(a <= b)\n",
    "print(a == b)\n",
    "print(a != b)"
   ]
  },
  {
   "cell_type": "code",
   "execution_count": 34,
   "metadata": {},
   "outputs": [
    {
     "data": {
      "text/plain": [
       "False"
      ]
     },
     "execution_count": 34,
     "metadata": {},
     "output_type": "execute_result"
    }
   ],
   "source": [
    "a = 3\n",
    "b = 7\n",
    "not a < b"
   ]
  },
  {
   "cell_type": "code",
   "execution_count": 36,
   "metadata": {},
   "outputs": [
    {
     "data": {
      "text/plain": [
       "True"
      ]
     },
     "execution_count": 36,
     "metadata": {},
     "output_type": "execute_result"
    }
   ],
   "source": [
    "3 > 5 and 10 == 20   #False\n",
    "3 > 5 and 10 < 20    #False\n",
    "3 < 5 and 10 < 20    #True"
   ]
  },
  {
   "cell_type": "code",
   "execution_count": 37,
   "metadata": {},
   "outputs": [
    {
     "data": {
      "text/plain": [
       "True"
      ]
     },
     "execution_count": 37,
     "metadata": {},
     "output_type": "execute_result"
    }
   ],
   "source": [
    "3 > 5 or 10 == 20   #False\n",
    "3 > 5 or 10 < 20    #Fure\n",
    "3 < 5 or 10 < 20    #True"
   ]
  },
  {
   "cell_type": "markdown",
   "metadata": {},
   "source": [
    "#### 삼항 연산자"
   ]
  },
  {
   "cell_type": "code",
   "execution_count": 39,
   "metadata": {},
   "outputs": [
    {
     "data": {
      "text/plain": [
       "'합격'"
      ]
     },
     "execution_count": 39,
     "metadata": {},
     "output_type": "execute_result"
    }
   ],
   "source": [
    "score = 80\n",
    "\"합격\" if score >= 60 else \"불합격\""
   ]
  },
  {
   "cell_type": "code",
   "execution_count": 41,
   "metadata": {},
   "outputs": [
    {
     "data": {
      "text/plain": [
       "'불합격'"
      ]
     },
     "execution_count": 41,
     "metadata": {},
     "output_type": "execute_result"
    }
   ],
   "source": [
    "score = 50\n",
    "\"합격\" if score >= 60 else \"불합격\""
   ]
  },
  {
   "cell_type": "code",
   "execution_count": 11,
   "metadata": {},
   "outputs": [
    {
     "name": "stdout",
     "output_type": "stream",
     "text": [
      "정수 입력 >> 33\n",
      "33는(은) 홀수입니다.\n"
     ]
    },
    {
     "data": {
      "text/plain": [
       "'33는(은) 홀수입니다.'"
      ]
     },
     "execution_count": 11,
     "metadata": {},
     "output_type": "execute_result"
    }
   ],
   "source": [
    "num1 = int(input(\"정수 입력 >> \"))\n",
    "print(\"{}는(은) 짝수입니다.\".format(num1)) if (num1//2)==0 else print(\"{}는(은) 홀수입니다.\".format(num1))\n",
    "\"{}는(은) 짝수입니다.\".format(num1) if (num1//2)==0 else \"{}는(은) 홀수입니다.\".format(num1)"
   ]
  },
  {
   "cell_type": "code",
   "execution_count": 4,
   "metadata": {},
   "outputs": [
    {
     "name": "stdout",
     "output_type": "stream",
     "text": [
      "정수 입력 >> 22\n",
      "22는(은) 홀수입니다.\n"
     ]
    }
   ],
   "source": [
    "num1 = int(input(\"정수 입력 >> \"))\n",
    "print(\"{}는(은) 짝수입니다.\".format(num1)) if num1//2==0 else print(\"{}는(은) 홀수입니다.\".format(num1)) "
   ]
  },
  {
   "cell_type": "code",
   "execution_count": 6,
   "metadata": {},
   "outputs": [
    {
     "name": "stdout",
     "output_type": "stream",
     "text": [
      "정수 입력 >> 55\n"
     ]
    },
    {
     "data": {
      "text/plain": [
       "'55는(은) 홀수입니다'"
      ]
     },
     "execution_count": 6,
     "metadata": {},
     "output_type": "execute_result"
    }
   ],
   "source": [
    "num1 = int(input(\"정수 입력 >> \"))\n",
    "\"%d는(은) 홀수입니다\"%num1 if(num1%2) else \"%d는(은) 짝수입니다\"%num1"
   ]
  },
  {
   "cell_type": "code",
   "execution_count": 7,
   "metadata": {},
   "outputs": [
    {
     "name": "stdout",
     "output_type": "stream",
     "text": [
      "값을 입력하시오>>21\n"
     ]
    },
    {
     "data": {
      "text/plain": [
       "'21는(은) 홀수입니다'"
      ]
     },
     "execution_count": 7,
     "metadata": {},
     "output_type": "execute_result"
    }
   ],
   "source": [
    "in_data = int(input(\"값을 입력하시오>>\"))\n",
    "\"{}는(은) 홀수입니다\".format(in_data) if (in_data%2) else \"{}는(은) 짝수입니다\".format(in_data)"
   ]
  },
  {
   "cell_type": "code",
   "execution_count": 5,
   "metadata": {},
   "outputs": [
    {
     "name": "stdout",
     "output_type": "stream",
     "text": [
      "값을 입력하시오>>21\n"
     ]
    },
    {
     "data": {
      "text/plain": [
       "'참'"
      ]
     },
     "execution_count": 5,
     "metadata": {},
     "output_type": "execute_result"
    }
   ],
   "source": [
    "in_data = int(input(\"값을 입력하시오>>\"))\n",
    "\"참\" if (in_data >10) else \"거짓\"     #print가 없어도 출력됨"
   ]
  },
  {
   "cell_type": "code",
   "execution_count": 14,
   "metadata": {},
   "outputs": [
    {
     "name": "stdout",
     "output_type": "stream",
     "text": [
      "첫 번째 정수 입력 >> 5\n",
      "두 번째 정수 입력 >> 6\n"
     ]
    },
    {
     "data": {
      "text/plain": [
       "'두 수의 차 : 1'"
      ]
     },
     "execution_count": 14,
     "metadata": {},
     "output_type": "execute_result"
    }
   ],
   "source": [
    "num1 = int(input(\"첫 번째 정수 입력 >> \"))\n",
    "num2 = int(input(\"두 번째 정수 입력 >> \"))\n",
    "\n",
    "\"두 수의 차 : %d\"%(num1-num2) if (num1 > num2) else \"두 수의 차 : %d\"%(num2-num1)"
   ]
  }
 ],
 "metadata": {
  "kernelspec": {
   "display_name": "Python 3",
   "language": "python",
   "name": "python3"
  },
  "language_info": {
   "codemirror_mode": {
    "name": "ipython",
    "version": 3
   },
   "file_extension": ".py",
   "mimetype": "text/x-python",
   "name": "python",
   "nbconvert_exporter": "python",
   "pygments_lexer": "ipython3",
   "version": "3.7.6"
  }
 },
 "nbformat": 4,
 "nbformat_minor": 4
}
