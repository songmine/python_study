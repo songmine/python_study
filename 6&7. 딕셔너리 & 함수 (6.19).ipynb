{
 "cells": [
  {
   "cell_type": "markdown",
   "metadata": {},
   "source": [
    "# 6.딕셔너리"
   ]
  },
  {
   "cell_type": "markdown",
   "metadata": {},
   "source": [
    "### 딕셔너리(dictonary) 선언 및 타입 확인"
   ]
  },
  {
   "cell_type": "code",
   "execution_count": 1,
   "metadata": {},
   "outputs": [
    {
     "data": {
      "text/plain": [
       "{'name': 'MH', 'age': 20, 'phone': '010-1234-1234'}"
      ]
     },
     "execution_count": 1,
     "metadata": {},
     "output_type": "execute_result"
    }
   ],
   "source": [
    "dic1 = {\"name\":\"MH\", \"age\":20, \"phone\":\"010-1234-1234\"}\n",
    "dic1"
   ]
  },
  {
   "cell_type": "code",
   "execution_count": 2,
   "metadata": {},
   "outputs": [
    {
     "name": "stdout",
     "output_type": "stream",
     "text": [
      "<class 'dict'>\n"
     ]
    }
   ],
   "source": [
    "print(type(dic1))"
   ]
  },
  {
   "cell_type": "markdown",
   "metadata": {},
   "source": [
    "### 딕셔너리(dictonary) 값 추가"
   ]
  },
  {
   "cell_type": "code",
   "execution_count": 5,
   "metadata": {},
   "outputs": [],
   "source": [
    "dic1[\"birth\"] = \"03/27\""
   ]
  },
  {
   "cell_type": "code",
   "execution_count": 6,
   "metadata": {},
   "outputs": [
    {
     "data": {
      "text/plain": [
       "{'name': 'MH', 'age': 20, 'phone': '010-1234-1234', 'birth': '03/27'}"
      ]
     },
     "execution_count": 6,
     "metadata": {},
     "output_type": "execute_result"
    }
   ],
   "source": [
    "dic1"
   ]
  },
  {
   "cell_type": "code",
   "execution_count": 7,
   "metadata": {},
   "outputs": [
    {
     "data": {
      "text/plain": [
       "{'노래제목': '아무노래', '가수': '지코', '날짜': '2020.01.13'}"
      ]
     },
     "execution_count": 7,
     "metadata": {},
     "output_type": "execute_result"
    }
   ],
   "source": [
    "dic_test = {'노래제목':'아무노래', '가수':'지코', '날짜':'2020.01.13'}\n",
    "dic_test"
   ]
  },
  {
   "cell_type": "markdown",
   "metadata": {},
   "source": [
    "### 딕셔너리(dictonary) 값 삭제"
   ]
  },
  {
   "cell_type": "code",
   "execution_count": 8,
   "metadata": {},
   "outputs": [],
   "source": [
    "dic2 = {\"name\":\"MH\", \"age\":20, \"phone\":\"010-1234-1234\"}"
   ]
  },
  {
   "cell_type": "code",
   "execution_count": 12,
   "metadata": {},
   "outputs": [
    {
     "data": {
      "text/plain": [
       "{'name': 'MH', 'age': 20}"
      ]
     },
     "execution_count": 12,
     "metadata": {},
     "output_type": "execute_result"
    }
   ],
   "source": [
    "del dic2['phone']\n",
    "dic2"
   ]
  },
  {
   "cell_type": "markdown",
   "metadata": {},
   "source": [
    "### 딕셔너리(dictonary) Key 만 가져오기"
   ]
  },
  {
   "cell_type": "code",
   "execution_count": 14,
   "metadata": {},
   "outputs": [],
   "source": [
    "dic3 = {\"name\":\"MH\", \"age\":20, \"phone\":\"010-1234-1234\"}"
   ]
  },
  {
   "cell_type": "code",
   "execution_count": 16,
   "metadata": {},
   "outputs": [
    {
     "data": {
      "text/plain": [
       "dict_keys(['name', 'age', 'phone'])"
      ]
     },
     "execution_count": 16,
     "metadata": {},
     "output_type": "execute_result"
    }
   ],
   "source": [
    "dic3.keys()"
   ]
  },
  {
   "cell_type": "code",
   "execution_count": 17,
   "metadata": {},
   "outputs": [
    {
     "data": {
      "text/plain": [
       "['name', 'age', 'phone']"
      ]
     },
     "execution_count": 17,
     "metadata": {},
     "output_type": "execute_result"
    }
   ],
   "source": [
    "list(dic3.keys())"
   ]
  },
  {
   "cell_type": "code",
   "execution_count": 20,
   "metadata": {},
   "outputs": [
    {
     "data": {
      "text/plain": [
       "dict_values(['MH', 20, '010-1234-1234'])"
      ]
     },
     "execution_count": 20,
     "metadata": {},
     "output_type": "execute_result"
    }
   ],
   "source": [
    "dic3.values()"
   ]
  },
  {
   "cell_type": "code",
   "execution_count": 19,
   "metadata": {},
   "outputs": [
    {
     "name": "stdout",
     "output_type": "stream",
     "text": [
      "MH\n",
      "20\n",
      "010-1234-1234\n"
     ]
    }
   ],
   "source": []
  },
  {
   "cell_type": "code",
   "execution_count": 21,
   "metadata": {},
   "outputs": [
    {
     "data": {
      "text/plain": [
       "['MH', 20, '010-1234-1234']"
      ]
     },
     "execution_count": 21,
     "metadata": {},
     "output_type": "execute_result"
    }
   ],
   "source": [
    "list(dic3.values())"
   ]
  },
  {
   "cell_type": "code",
   "execution_count": 22,
   "metadata": {},
   "outputs": [
    {
     "data": {
      "text/plain": [
       "{'name': 'MH', 'age': 20, 'phone': '010-1234-1234'}"
      ]
     },
     "execution_count": 22,
     "metadata": {},
     "output_type": "execute_result"
    }
   ],
   "source": [
    "dic3"
   ]
  },
  {
   "cell_type": "code",
   "execution_count": 23,
   "metadata": {},
   "outputs": [
    {
     "data": {
      "text/plain": [
       "{}"
      ]
     },
     "execution_count": 23,
     "metadata": {},
     "output_type": "execute_result"
    }
   ],
   "source": [
    "dic3.clear()\n",
    "dic3"
   ]
  },
  {
   "cell_type": "markdown",
   "metadata": {},
   "source": [
    "# 7.함수"
   ]
  },
  {
   "cell_type": "markdown",
   "metadata": {},
   "source": [
    "#### 함수(funtion) 구조"
   ]
  },
  {
   "cell_type": "code",
   "execution_count": 31,
   "metadata": {},
   "outputs": [],
   "source": [
    "def number_sum(num1, num2):\n",
    "    result = num1+num2\n",
    "    return result"
   ]
  },
  {
   "cell_type": "code",
   "execution_count": 32,
   "metadata": {},
   "outputs": [
    {
     "data": {
      "text/plain": [
       "13"
      ]
     },
     "execution_count": 32,
     "metadata": {},
     "output_type": "execute_result"
    }
   ],
   "source": [
    "number_sum(3,10)"
   ]
  },
  {
   "cell_type": "code",
   "execution_count": 33,
   "metadata": {},
   "outputs": [
    {
     "data": {
      "text/plain": [
       "13"
      ]
     },
     "execution_count": 33,
     "metadata": {},
     "output_type": "execute_result"
    }
   ],
   "source": [
    "number = number_sum(3,10)\n",
    "number"
   ]
  },
  {
   "cell_type": "markdown",
   "metadata": {},
   "source": [
    "#### 함수(function) 예제"
   ]
  },
  {
   "cell_type": "code",
   "execution_count": 38,
   "metadata": {},
   "outputs": [],
   "source": [
    "def number_minus(n1, n2):\n",
    "    result = n1 - n2\n",
    "    return result"
   ]
  },
  {
   "cell_type": "code",
   "execution_count": 40,
   "metadata": {},
   "outputs": [
    {
     "name": "stdout",
     "output_type": "stream",
     "text": [
      "첫 번째 정수 입력 >> 7\n",
      "두 번째 정수 입력 >> 3\n"
     ]
    },
    {
     "data": {
      "text/plain": [
       "4"
      ]
     },
     "execution_count": 40,
     "metadata": {},
     "output_type": "execute_result"
    }
   ],
   "source": [
    "num1 = int(input(\"첫 번째 정수 입력 >> \"))\n",
    "num2 = int(input(\"두 번째 정수 입력 >> \"))\n",
    "result = number_minus(num1, num2)\n",
    "result               #print(result)"
   ]
  },
  {
   "cell_type": "code",
   "execution_count": 11,
   "metadata": {},
   "outputs": [
    {
     "name": "stdout",
     "output_type": "stream",
     "text": [
      "문자열 입력 >> 안녕하세요ㅋㅋㅋㅋㅋㅋㅋㅋㅋ\n",
      "안녕하세요\n"
     ]
    }
   ],
   "source": [
    "def s_replace(string_data):\n",
    "    return_data = string_data.replace('ㅋ','')\n",
    "    return return_data\n",
    "\n",
    "\n",
    "s = input(\"문자열 입력 >> \")\n",
    "result = s_replace(s)\n",
    "print(result)"
   ]
  },
  {
   "cell_type": "code",
   "execution_count": 10,
   "metadata": {},
   "outputs": [
    {
     "name": "stdout",
     "output_type": "stream",
     "text": [
      "문자열 입력 >>안녕하세요 히히히히히히히히\n",
      "제거할 문자 >>히\n",
      "안녕하세요 \n"
     ]
    }
   ],
   "source": [
    "def s_replace(string_data, erase_key):\n",
    "    return_data = string_data.replace(erase_key, '')\n",
    "    return return_data\n",
    "\n",
    "s = input(\"문자열 입력 >>\")\n",
    "t = input(\"제거할 문자 >>\")\n",
    "result = s_replace(s, t)\n",
    "print(result)"
   ]
  },
  {
   "cell_type": "code",
   "execution_count": 12,
   "metadata": {},
   "outputs": [
    {
     "name": "stdout",
     "output_type": "stream",
     "text": [
      "첫 번째 정수 입력 >> 5\n",
      "두 번째 정수 입력 >> 3\n",
      "연산자 입력(+,-) >> +\n",
      "결과 : 8\n"
     ]
    }
   ],
   "source": [
    "def cal(a1, a2, op):\n",
    "    return_value = 0\n",
    "    \n",
    "    if op==\"+\":\n",
    "        return_value = a1 + a2\n",
    "    else:\n",
    "        return_value = a1-a2\n",
    "        \n",
    "    return return_value\n",
    "\n",
    "\n",
    "num1 = int(input(\"첫 번째 정수 입력 >> \"))\n",
    "num2 = int(input(\"두 번째 정수 입력 >> \"))\n",
    "op = input(\"연산자 입력(+,-) >> \")\n",
    "result = cal(num1, num2 , op)\n",
    "print(\"결과 : {}\".format(result))"
   ]
  },
  {
   "cell_type": "code",
   "execution_count": null,
   "metadata": {},
   "outputs": [],
   "source": []
  },
  {
   "cell_type": "code",
   "execution_count": null,
   "metadata": {},
   "outputs": [],
   "source": [
    "num1 = 1   #처음에 선언안해주면 값이 없다고 떠서 오류가 뜰 수 있음(이 문제의 경우 둘 중 하나만 0이 아닌값을 써주면 됨)\n",
    "num2 = 1  #또 다른이유) 이전에 이미 num1 num2 변수를 써서 어떤 문장/계산을 했을 경우, 그 값을 가져다가 쓰는 경우가 생길 수 있음.\n",
    "# num1 ==0 and num2 ==0 의 부정이 (num1 != 0 or num2 != 0)\n",
    "while (num1 != 0 or num2 != 0):\n",
    "    num1 = int(input(\"첫 번째 정수 입력 >> \"))\n",
    "    num2 = int(input(\"두 번째 정수 입력 >> \"))    \n",
    "    print(\"두 정수의 합 : %d\"%(num1+num2))\n",
    "else:\n",
    "    print(\"프로그램이 종료되었습니다.\")"
   ]
  },
  {
   "cell_type": "code",
   "execution_count": null,
   "metadata": {},
   "outputs": [],
   "source": [
    "num1 = 1 \n",
    "num2 = 1  \n",
    "# num1 ==0 and num2 ==0 의 부정이 (num1 != 0 or num2 != 0)\n",
    "\n",
    "while True:  \n",
    "    num1 = int(input(\"첫 번째 정수 입력 >> \"))\n",
    "    num2 = int(input(\"두 번째 정수 입력 >> \")) \n",
    "    if(num1==0 and num2==0):\n",
    "        break\n",
    "    print(\"두 정수의 합 : %d\"%(num1+num2))\n",
    "    print(\"\\n\")\n",
    "\n",
    "print(\"프로그램이 종료되었습니다.\")"
   ]
  },
  {
   "cell_type": "code",
   "execution_count": null,
   "metadata": {},
   "outputs": [],
   "source": [
    "num1=0\n",
    "num2=0\n",
    "while True:\n",
    "    num1 = input(\"첫 번째 정수 입력 >> \")\n",
    "    num2 = input(\"두 번째 정수 입력 >> \")\n",
    "    if not(num1 == 0 , num2 == 0):\n",
    "        print(\"두 정수의 합 : %d\"%(num1 + num2))\n",
    "    else:\n",
    "        print(\"프로그램이 종료되었습니다.\")"
   ]
  }
 ],
 "metadata": {
  "kernelspec": {
   "display_name": "Python 3",
   "language": "python",
   "name": "python3"
  },
  "language_info": {
   "codemirror_mode": {
    "name": "ipython",
    "version": 3
   },
   "file_extension": ".py",
   "mimetype": "text/x-python",
   "name": "python",
   "nbconvert_exporter": "python",
   "pygments_lexer": "ipython3",
   "version": "3.7.6"
  }
 },
 "nbformat": 4,
 "nbformat_minor": 4
}
